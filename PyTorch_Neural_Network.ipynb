{
 "cells": [
  {
   "cell_type": "code",
   "execution_count": 1,
   "metadata": {},
   "outputs": [],
   "source": [
    "#Neural Network using Pytorch\n",
    "\n",
    "#Neural networks can be constructed using the torch.nn package.\n",
    "\n",
    "#A typical training procedure for a neural network is as follows:\n",
    "\n",
    "# - Define the neural network that has some learnable parameters (or weights)\n",
    "# - Iterate over a dataset of inputs\n",
    "# - Process input through the network\n",
    "# - Compute the loss (how far is the output from being correct)\n",
    "# - Propagate gradients back into the network’s parameters\n",
    "# - Update the weights of the network, typically using a simple update rule: weight = weight - learning_rate * gradient"
   ]
  },
  {
   "cell_type": "code",
   "execution_count": 2,
   "metadata": {},
   "outputs": [],
   "source": [
    "#Define the network\n",
    "\n",
    "import torch\n",
    "import torch.nn as nn\n",
    "import torch.nn.functional as F"
   ]
  },
  {
   "cell_type": "code",
   "execution_count": 3,
   "metadata": {},
   "outputs": [
    {
     "name": "stdout",
     "output_type": "stream",
     "text": [
      "Net(\n",
      "  (conv1): Conv2d(1, 6, kernel_size=(5, 5), stride=(1, 1))\n",
      "  (conv2): Conv2d(6, 16, kernel_size=(5, 5), stride=(1, 1))\n",
      "  (fc1): Linear(in_features=400, out_features=120, bias=True)\n",
      "  (fc2): Linear(in_features=120, out_features=84, bias=True)\n",
      "  (fc3): Linear(in_features=84, out_features=10, bias=True)\n",
      ")\n"
     ]
    }
   ],
   "source": [
    "class Net(nn.Module):\n",
    "    \n",
    "    def __init__(self):\n",
    "        super(Net, self).__init__()\n",
    "        #1 input image channel, 6 output channel and 5x5 square convolution kernel\n",
    "        self.conv1= nn.Conv2d(1,6,5)\n",
    "        self.conv2= nn.Conv2d(6, 16, 5)\n",
    "        #An affine operation: y= Wx + b\n",
    "        self.fc1= nn.Linear(16*5*5, 120)\n",
    "        self.fc2= nn.Linear(120, 84)\n",
    "        self.fc3= nn.Linear(84, 10)\n",
    "        \n",
    "    def forward(self, x):\n",
    "        #Max Pooling over a 2x2 window\n",
    "        x= F.max_pool2d(F.relu(self.conv1(x)), (2,2))\n",
    "        #If the size is a square, we can specify a single number\n",
    "        x= F.max_pool2d(F.relu(self.conv2(x)), 2)\n",
    "        x= x.view(-1, self.num_flat_features(x))\n",
    "        x= x.view(-1, self.num_flat_features(x))\n",
    "        x= F.relu(self.fc1(x))\n",
    "        x=F.relu(self.fc2(x))\n",
    "        x= self.fc3(x)\n",
    "        \n",
    "        return x\n",
    "        \n",
    "    \n",
    "    def num_flat_features(slef, x):\n",
    "        size= x.size()[1:] #All teh sizes except the batch size\n",
    "        num_features= 1\n",
    "        for s in size:\n",
    "            num_features*=s\n",
    "        \n",
    "        return num_features\n",
    "    \n",
    "    \n",
    "net= Net()\n",
    "print(net)\n",
    "        "
   ]
  },
  {
   "cell_type": "code",
   "execution_count": 16,
   "metadata": {},
   "outputs": [
    {
     "name": "stdout",
     "output_type": "stream",
     "text": [
      "10\n",
      "torch.Size([6, 1, 5, 5])\n"
     ]
    }
   ],
   "source": [
    "#The learnable parameters of a model are returned by net.parameters()\n",
    "\n",
    "params= list(net.parameters())\n",
    "print(len(params))\n",
    "print(params[0].size()) #conv's weight"
   ]
  },
  {
   "cell_type": "code",
   "execution_count": 17,
   "metadata": {},
   "outputs": [
    {
     "name": "stdout",
     "output_type": "stream",
     "text": [
      "tensor([[-0.0566,  0.0185,  0.0045,  0.0838,  0.1177,  0.0801, -0.0904, -0.0100,\n",
      "         -0.0051,  0.0887]], grad_fn=<ThAddmmBackward>)\n"
     ]
    }
   ],
   "source": [
    "input= torch.randn(1,1,32,32)\n",
    "out= net(input)\n",
    "print(out)"
   ]
  },
  {
   "cell_type": "code",
   "execution_count": 18,
   "metadata": {},
   "outputs": [],
   "source": [
    "#Zero the gradient buffers of all parameters and backprops with random gradients:\n",
    "\n",
    "net.zero_grad()\n",
    "out.backward(torch.randn(1,10))"
   ]
  },
  {
   "cell_type": "code",
   "execution_count": 19,
   "metadata": {},
   "outputs": [
    {
     "name": "stdout",
     "output_type": "stream",
     "text": [
      "tensor(0.2165, grad_fn=<MseLossBackward>)\n"
     ]
    }
   ],
   "source": [
    "#Loss Function\n",
    "\n",
    "output= net(input)\n",
    "target= torch.randn(10) #a dummy target for example\n",
    "target= target.view(1,-1) #make it of the shape of output\n",
    "criterion= nn.MSELoss()\n",
    "\n",
    "loss= criterion(output, target)\n",
    "print(loss)"
   ]
  },
  {
   "cell_type": "code",
   "execution_count": null,
   "metadata": {},
   "outputs": [],
   "source": [
    "#graph of computations that looks like this:\n",
    "\n",
    "#input -> conv2d -> relu -> maxpool2d -> conv2d -> relu -> maxpool2d\n",
    "#      -> view -> linear -> relu -> linear -> relu -> linear\n",
    "#      -> MSELoss\n",
    "#      -> loss"
   ]
  }
 ],
 "metadata": {
  "kernelspec": {
   "display_name": "Python 3",
   "language": "python",
   "name": "python3"
  },
  "language_info": {
   "codemirror_mode": {
    "name": "ipython",
    "version": 3
   },
   "file_extension": ".py",
   "mimetype": "text/x-python",
   "name": "python",
   "nbconvert_exporter": "python",
   "pygments_lexer": "ipython3",
   "version": "3.6.5"
  }
 },
 "nbformat": 4,
 "nbformat_minor": 2
}
