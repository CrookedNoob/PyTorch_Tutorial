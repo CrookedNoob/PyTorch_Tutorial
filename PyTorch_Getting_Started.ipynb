{
 "cells": [
  {
   "cell_type": "code",
   "execution_count": 1,
   "metadata": {},
   "outputs": [],
   "source": [
    "#PyTorch Tutorial\n",
    "\n",
    "from __future__ import print_function\n",
    "import torch"
   ]
  },
  {
   "cell_type": "code",
   "execution_count": 4,
   "metadata": {},
   "outputs": [
    {
     "name": "stdout",
     "output_type": "stream",
     "text": [
      "tensor([[8.8910e-10, 0.0000e+00, 0.0000e+00, 0.0000e+00],\n",
      "        [0.0000e+00, 0.0000e+00, 2.1019e-44, 0.0000e+00],\n",
      "        [1.7047e+11, 7.6791e-43, 1.7047e+11, 7.6791e-43],\n",
      "        [0.0000e+00, 0.0000e+00, 0.0000e+00, 0.0000e+00],\n",
      "        [0.0000e+00, 0.0000e+00, 1.4013e-45, 0.0000e+00]])\n"
     ]
    }
   ],
   "source": [
    "#Construct an unitialized matrix\n",
    "\n",
    "x= torch.empty(5,4)\n",
    "print(x)"
   ]
  },
  {
   "cell_type": "code",
   "execution_count": 6,
   "metadata": {},
   "outputs": [
    {
     "data": {
      "text/plain": [
       "tensor([[0.1614, 0.4067, 0.9944, 0.0455],\n",
       "        [0.2235, 0.8497, 0.5883, 0.6399],\n",
       "        [0.4983, 0.6390, 0.6313, 0.8885],\n",
       "        [0.6301, 0.9968, 0.0409, 0.5412],\n",
       "        [0.4110, 0.9776, 0.8891, 0.3262]])"
      ]
     },
     "execution_count": 6,
     "metadata": {},
     "output_type": "execute_result"
    }
   ],
   "source": [
    "#Construct a randomly initialized matrix\n",
    "\n",
    "x= torch.rand(5,4)\n",
    "x"
   ]
  },
  {
   "cell_type": "code",
   "execution_count": 8,
   "metadata": {},
   "outputs": [
    {
     "data": {
      "text/plain": [
       "tensor([[0, 0, 0, 0],\n",
       "        [0, 0, 0, 0],\n",
       "        [0, 0, 0, 0],\n",
       "        [0, 0, 0, 0],\n",
       "        [0, 0, 0, 0]])"
      ]
     },
     "execution_count": 8,
     "metadata": {},
     "output_type": "execute_result"
    }
   ],
   "source": [
    "#Construct a matrix of zeros and dtype long\n",
    "\n",
    "x= torch.zeros(5,4, dtype=torch.long)\n",
    "x"
   ]
  },
  {
   "cell_type": "code",
   "execution_count": 13,
   "metadata": {},
   "outputs": [
    {
     "data": {
      "text/plain": [
       "tensor([[123,  12, 434],\n",
       "        [ 78,  34, 565]])"
      ]
     },
     "execution_count": 13,
     "metadata": {},
     "output_type": "execute_result"
    }
   ],
   "source": [
    "#Construct a tensor directly from data\n",
    "x= torch.tensor([[123, 12,434], [78,34,565]])\n",
    "x"
   ]
  },
  {
   "cell_type": "code",
   "execution_count": 15,
   "metadata": {},
   "outputs": [
    {
     "name": "stdout",
     "output_type": "stream",
     "text": [
      "tensor([[1., 1., 1.],\n",
      "        [1., 1., 1.],\n",
      "        [1., 1., 1.],\n",
      "        [1., 1., 1.],\n",
      "        [1., 1., 1.]])\n",
      "tensor([[0.7269, 0.2901, 0.7192],\n",
      "        [0.0833, 0.9956, 0.2926],\n",
      "        [0.5292, 0.8346, 0.7613],\n",
      "        [0.7603, 0.7655, 0.2390],\n",
      "        [0.2283, 0.3864, 0.0855]])\n"
     ]
    }
   ],
   "source": [
    "x= x.new_ones(5,3, dtype=torch.float32)\n",
    "print(x)\n",
    "\n",
    "x= torch.rand_like(x, dtype=torch.float32)\n",
    "print(x)"
   ]
  },
  {
   "cell_type": "code",
   "execution_count": 16,
   "metadata": {},
   "outputs": [
    {
     "name": "stdout",
     "output_type": "stream",
     "text": [
      "torch.Size([5, 3])\n"
     ]
    }
   ],
   "source": [
    "#get size\n",
    "print(x.size())"
   ]
  },
  {
   "cell_type": "code",
   "execution_count": 17,
   "metadata": {},
   "outputs": [
    {
     "name": "stdout",
     "output_type": "stream",
     "text": [
      "tensor([[1.5844, 0.4125, 1.0837],\n",
      "        [0.0914, 1.3033, 1.0860],\n",
      "        [0.7434, 1.7218, 0.8757],\n",
      "        [0.9431, 1.3939, 0.2818],\n",
      "        [0.6661, 1.3445, 0.2698]])\n"
     ]
    }
   ],
   "source": [
    "#Operations\n",
    "\n",
    "y= torch.rand(5,3, dtype= torch.float32)\n",
    "print(x+y)"
   ]
  },
  {
   "cell_type": "code",
   "execution_count": 18,
   "metadata": {},
   "outputs": [
    {
     "name": "stdout",
     "output_type": "stream",
     "text": [
      "tensor([[1.5844, 0.4125, 1.0837],\n",
      "        [0.0914, 1.3033, 1.0860],\n",
      "        [0.7434, 1.7218, 0.8757],\n",
      "        [0.9431, 1.3939, 0.2818],\n",
      "        [0.6661, 1.3445, 0.2698]])\n"
     ]
    }
   ],
   "source": [
    "print(torch.add(x,y))"
   ]
  },
  {
   "cell_type": "code",
   "execution_count": 20,
   "metadata": {},
   "outputs": [
    {
     "name": "stdout",
     "output_type": "stream",
     "text": [
      "tensor([[1.5844, 0.4125, 1.0837],\n",
      "        [0.0914, 1.3033, 1.0860],\n",
      "        [0.7434, 1.7218, 0.8757],\n",
      "        [0.9431, 1.3939, 0.2818],\n",
      "        [0.6661, 1.3445, 0.2698]])\n"
     ]
    }
   ],
   "source": [
    "#Addition: providing an output tensor as argument\n",
    "z= torch.empty(5,3)\n",
    "torch.add(x,y, out=z)\n",
    "print(z)"
   ]
  },
  {
   "cell_type": "code",
   "execution_count": 21,
   "metadata": {},
   "outputs": [
    {
     "name": "stdout",
     "output_type": "stream",
     "text": [
      "tensor([[1.5844, 0.4125, 1.0837],\n",
      "        [0.0914, 1.3033, 1.0860],\n",
      "        [0.7434, 1.7218, 0.8757],\n",
      "        [0.9431, 1.3939, 0.2818],\n",
      "        [0.6661, 1.3445, 0.2698]])\n"
     ]
    }
   ],
   "source": [
    "#Addition: in place\n",
    "y.add_(x)\n",
    "print(y)\n"
   ]
  },
  {
   "cell_type": "code",
   "execution_count": 22,
   "metadata": {},
   "outputs": [],
   "source": [
    "#Any operation that mutates a tensor in-place is post-fixed with an _. For example: x.copy_(y), x.t_(), will change x."
   ]
  },
  {
   "cell_type": "code",
   "execution_count": 26,
   "metadata": {},
   "outputs": [
    {
     "name": "stdout",
     "output_type": "stream",
     "text": [
      "tensor([0.2901, 0.9956, 0.8346, 0.7655, 0.3864])\n",
      "tensor([0.7269, 0.2901, 0.7192])\n"
     ]
    }
   ],
   "source": [
    "print(x[:,1])\n",
    "print(x[0,:])"
   ]
  },
  {
   "cell_type": "code",
   "execution_count": 27,
   "metadata": {},
   "outputs": [],
   "source": [
    "#Resizing: If you want to resize/reshape tensor, you can use torch.view"
   ]
  },
  {
   "cell_type": "code",
   "execution_count": 34,
   "metadata": {},
   "outputs": [
    {
     "name": "stdout",
     "output_type": "stream",
     "text": [
      "tensor([[-1.9685,  0.3666, -0.5297],\n",
      "        [ 0.1175,  0.9344, -0.7047],\n",
      "        [-0.4696,  0.6898, -0.2717],\n",
      "        [-1.1595, -1.0936,  0.3568]])\n",
      "torch.Size([4, 3])\n",
      "tensor([-1.9685,  0.3666, -0.5297,  0.1175,  0.9344, -0.7047, -0.4696,  0.6898,\n",
      "        -0.2717, -1.1595, -1.0936,  0.3568])\n",
      "torch.Size([12])\n",
      "tensor([[-1.9685,  0.3666, -0.5297,  0.1175,  0.9344, -0.7047],\n",
      "        [-0.4696,  0.6898, -0.2717, -1.1595, -1.0936,  0.3568]])\n",
      "torch.Size([2, 6])\n"
     ]
    }
   ],
   "source": [
    "x= torch.randn(4,3)\n",
    "print(x)\n",
    "print(x.size())\n",
    "print(x.view(12).view(12))\n",
    "print(x.view(12).size())\n",
    "print(x.view(-1,6))\n",
    "print(x.view(-1,6).size())"
   ]
  },
  {
   "cell_type": "code",
   "execution_count": 35,
   "metadata": {},
   "outputs": [],
   "source": [
    "#If you have a one element tensor, use .item() to get the value as a Python number"
   ]
  },
  {
   "cell_type": "code",
   "execution_count": 40,
   "metadata": {},
   "outputs": [
    {
     "name": "stdout",
     "output_type": "stream",
     "text": [
      "tensor([0.0152])\n",
      "0.01520615816116333\n"
     ]
    }
   ],
   "source": [
    "x= torch.rand(1)\n",
    "print(x)\n",
    "print(x.item())"
   ]
  },
  {
   "cell_type": "code",
   "execution_count": 46,
   "metadata": {},
   "outputs": [
    {
     "name": "stdout",
     "output_type": "stream",
     "text": [
      "tensor([1., 1., 1., 1., 1.])\n",
      "[1. 1. 1. 1. 1.]\n",
      "tensor([2., 2., 2., 2., 2.])\n",
      "[2. 2. 2. 2. 2.]\n"
     ]
    }
   ],
   "source": [
    "#Numpy Bridge\n",
    "\n",
    "a= torch.ones(5)\n",
    "print(a)\n",
    "b=a.numpy()\n",
    "print(b)\n",
    "\n",
    "#See how the numpy array changed in value\n",
    "a.add_(1)\n",
    "print(a)\n",
    "print(b)"
   ]
  },
  {
   "cell_type": "code",
   "execution_count": 47,
   "metadata": {},
   "outputs": [
    {
     "name": "stdout",
     "output_type": "stream",
     "text": [
      "[1. 1. 1. 1. 1.]\n",
      "tensor([1., 1., 1., 1., 1.], dtype=torch.float64)\n"
     ]
    }
   ],
   "source": [
    "#Converting numpy array to tensor\n",
    "import numpy as np\n",
    "a = np.ones(5)\n",
    "b= torch.from_numpy(a)\n",
    "\n",
    "print(a)\n",
    "print(b)"
   ]
  },
  {
   "cell_type": "code",
   "execution_count": 49,
   "metadata": {},
   "outputs": [],
   "source": [
    "#CUDA Tensors\n",
    "\n",
    "# let us run this cell only if CUDA is available\n",
    "# We will use ``torch.device`` objects to move tensors in and out of GPU\n",
    "\n",
    "if torch.cuda.is_available():\n",
    "    device = torch.device(\"cuda\")          # a CUDA device object\n",
    "    y = torch.ones_like(x, device=device)  # directly create a tensor on GPU\n",
    "    x = x.to(device)                       # or just use strings ``.to(\"cuda\")``\n",
    "    z = x + y\n",
    "    print(z)\n",
    "    print(z.to(\"cpu\", torch.double))       # ``.to`` can also change dtype together!"
   ]
  },
  {
   "cell_type": "code",
   "execution_count": null,
   "metadata": {},
   "outputs": [],
   "source": []
  }
 ],
 "metadata": {
  "kernelspec": {
   "display_name": "Python 3",
   "language": "python",
   "name": "python3"
  },
  "language_info": {
   "codemirror_mode": {
    "name": "ipython",
    "version": 3
   },
   "file_extension": ".py",
   "mimetype": "text/x-python",
   "name": "python",
   "nbconvert_exporter": "python",
   "pygments_lexer": "ipython3",
   "version": "3.6.5"
  }
 },
 "nbformat": 4,
 "nbformat_minor": 2
}
